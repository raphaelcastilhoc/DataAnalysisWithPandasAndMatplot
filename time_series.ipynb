{
 "cells": [
  {
   "cell_type": "code",
   "execution_count": 1,
   "metadata": {},
   "outputs": [],
   "source": [
    "from datetime import datetime\n",
    "import numpy as np\n",
    "import pandas as pd"
   ]
  },
  {
   "cell_type": "code",
   "execution_count": 2,
   "metadata": {},
   "outputs": [],
   "source": [
    "dates = [datetime(2011, 1, 2), datetime(2011, 1, 3), datetime(2011, 1, 5), datetime(2011, 1, 7),\n",
    "        datetime(2011, 1, 9), datetime(2011, 1, 10)]"
   ]
  },
  {
   "cell_type": "code",
   "execution_count": 3,
   "metadata": {},
   "outputs": [
    {
     "data": {
      "text/plain": [
       "[datetime.datetime(2011, 1, 2, 0, 0),\n",
       " datetime.datetime(2011, 1, 3, 0, 0),\n",
       " datetime.datetime(2011, 1, 5, 0, 0),\n",
       " datetime.datetime(2011, 1, 7, 0, 0),\n",
       " datetime.datetime(2011, 1, 9, 0, 0),\n",
       " datetime.datetime(2011, 1, 10, 0, 0)]"
      ]
     },
     "execution_count": 3,
     "metadata": {},
     "output_type": "execute_result"
    }
   ],
   "source": [
    "dates"
   ]
  },
  {
   "cell_type": "code",
   "execution_count": 4,
   "metadata": {},
   "outputs": [],
   "source": [
    "ts = pd.Series(np.random.randn(6), index=dates)"
   ]
  },
  {
   "cell_type": "code",
   "execution_count": 5,
   "metadata": {},
   "outputs": [
    {
     "data": {
      "text/plain": [
       "2011-01-02    0.561466\n",
       "2011-01-03   -0.145611\n",
       "2011-01-05   -1.426006\n",
       "2011-01-07   -0.647623\n",
       "2011-01-09    1.979996\n",
       "2011-01-10   -0.051569\n",
       "dtype: float64"
      ]
     },
     "execution_count": 5,
     "metadata": {},
     "output_type": "execute_result"
    }
   ],
   "source": [
    "ts"
   ]
  },
  {
   "cell_type": "code",
   "execution_count": 6,
   "metadata": {},
   "outputs": [
    {
     "data": {
      "text/plain": [
       "DatetimeIndex(['2011-01-02', '2011-01-03', '2011-01-05', '2011-01-07',\n",
       "               '2011-01-09', '2011-01-10'],\n",
       "              dtype='datetime64[ns]', freq=None)"
      ]
     },
     "execution_count": 6,
     "metadata": {},
     "output_type": "execute_result"
    }
   ],
   "source": [
    "ts.index"
   ]
  },
  {
   "cell_type": "code",
   "execution_count": 7,
   "metadata": {},
   "outputs": [
    {
     "data": {
      "text/plain": [
       "2011-01-02    1.122931\n",
       "2011-01-03         NaN\n",
       "2011-01-05   -2.852012\n",
       "2011-01-07         NaN\n",
       "2011-01-09    3.959992\n",
       "2011-01-10         NaN\n",
       "dtype: float64"
      ]
     },
     "execution_count": 7,
     "metadata": {},
     "output_type": "execute_result"
    }
   ],
   "source": [
    "ts + ts[::2]"
   ]
  },
  {
   "cell_type": "code",
   "execution_count": 8,
   "metadata": {},
   "outputs": [
    {
     "data": {
      "text/plain": [
       "2011-01-02    0.561466\n",
       "2011-01-05   -1.426006\n",
       "2011-01-09    1.979996\n",
       "dtype: float64"
      ]
     },
     "execution_count": 8,
     "metadata": {},
     "output_type": "execute_result"
    }
   ],
   "source": [
    "ts[::2]"
   ]
  },
  {
   "cell_type": "code",
   "execution_count": 9,
   "metadata": {},
   "outputs": [
    {
     "data": {
      "text/plain": [
       "dtype('<M8[ns]')"
      ]
     },
     "execution_count": 9,
     "metadata": {},
     "output_type": "execute_result"
    }
   ],
   "source": [
    "ts.index.dtype"
   ]
  },
  {
   "cell_type": "code",
   "execution_count": 10,
   "metadata": {},
   "outputs": [
    {
     "data": {
      "text/plain": [
       "Timestamp('2011-01-05 00:00:00')"
      ]
     },
     "execution_count": 10,
     "metadata": {},
     "output_type": "execute_result"
    }
   ],
   "source": [
    "ts.index[2]"
   ]
  },
  {
   "cell_type": "code",
   "execution_count": 11,
   "metadata": {},
   "outputs": [],
   "source": [
    "stamp = ts.index[2]"
   ]
  },
  {
   "cell_type": "code",
   "execution_count": 12,
   "metadata": {},
   "outputs": [
    {
     "data": {
      "text/plain": [
       "-1.4260060009883522"
      ]
     },
     "execution_count": 12,
     "metadata": {},
     "output_type": "execute_result"
    }
   ],
   "source": [
    "ts[stamp]"
   ]
  },
  {
   "cell_type": "code",
   "execution_count": 13,
   "metadata": {},
   "outputs": [
    {
     "data": {
      "text/plain": [
       "-1.4260060009883522"
      ]
     },
     "execution_count": 13,
     "metadata": {},
     "output_type": "execute_result"
    }
   ],
   "source": [
    "ts['2011-01-05']"
   ]
  },
  {
   "cell_type": "code",
   "execution_count": 14,
   "metadata": {},
   "outputs": [
    {
     "data": {
      "text/plain": [
       "-1.4260060009883522"
      ]
     },
     "execution_count": 14,
     "metadata": {},
     "output_type": "execute_result"
    }
   ],
   "source": [
    "ts['20110105']"
   ]
  },
  {
   "cell_type": "code",
   "execution_count": 15,
   "metadata": {},
   "outputs": [],
   "source": [
    "longer_ts = pd.Series(np.random.randn(30),\n",
    "                     index=pd.date_range('2000/1/1', periods=30))"
   ]
  },
  {
   "cell_type": "code",
   "execution_count": 16,
   "metadata": {},
   "outputs": [
    {
     "data": {
      "text/plain": [
       "2000-01-01    0.062206\n",
       "2000-01-02   -0.400140\n",
       "2000-01-03    1.309267\n",
       "2000-01-04    1.042249\n",
       "2000-01-05   -1.312826\n",
       "2000-01-06    0.425814\n",
       "2000-01-07    0.369441\n",
       "2000-01-08    0.626038\n",
       "2000-01-09    0.418752\n",
       "2000-01-10    0.417152\n",
       "2000-01-11   -0.941119\n",
       "2000-01-12    0.315755\n",
       "2000-01-13   -0.500614\n",
       "2000-01-14    0.705092\n",
       "2000-01-15   -0.769300\n",
       "2000-01-16    1.712043\n",
       "2000-01-17   -0.661257\n",
       "2000-01-18   -0.446797\n",
       "2000-01-19    0.468882\n",
       "2000-01-20   -0.741400\n",
       "2000-01-21    0.788056\n",
       "2000-01-22   -0.884793\n",
       "2000-01-23    1.512500\n",
       "2000-01-24    0.596371\n",
       "2000-01-25    1.131256\n",
       "2000-01-26   -0.100071\n",
       "2000-01-27   -0.926723\n",
       "2000-01-28   -1.786978\n",
       "2000-01-29    0.684250\n",
       "2000-01-30   -0.076135\n",
       "Freq: D, dtype: float64"
      ]
     },
     "execution_count": 16,
     "metadata": {},
     "output_type": "execute_result"
    }
   ],
   "source": [
    "longer_ts"
   ]
  },
  {
   "cell_type": "code",
   "execution_count": 17,
   "metadata": {},
   "outputs": [],
   "source": [
    "longest_ts = pd.Series(np.random.randn(1000),\n",
    "                     index=pd.date_range('2000/1/1', periods=1000))"
   ]
  },
  {
   "cell_type": "code",
   "execution_count": 18,
   "metadata": {},
   "outputs": [
    {
     "data": {
      "text/plain": [
       "2001-01-01   -0.629375\n",
       "2001-01-02    0.594517\n",
       "2001-01-03    0.796537\n",
       "2001-01-04   -0.491472\n",
       "2001-01-05   -2.041855\n",
       "2001-01-06   -0.382931\n",
       "2001-01-07   -0.429851\n",
       "2001-01-08    2.090270\n",
       "2001-01-09   -0.448536\n",
       "2001-01-10   -0.928857\n",
       "2001-01-11   -0.170300\n",
       "2001-01-12    1.798807\n",
       "2001-01-13    0.219181\n",
       "2001-01-14    0.177359\n",
       "2001-01-15   -0.517502\n",
       "2001-01-16   -0.343601\n",
       "2001-01-17   -0.930308\n",
       "2001-01-18   -0.661323\n",
       "2001-01-19   -0.276414\n",
       "2001-01-20   -0.161398\n",
       "2001-01-21    0.543946\n",
       "2001-01-22   -0.816618\n",
       "2001-01-23   -0.291385\n",
       "2001-01-24   -0.734896\n",
       "2001-01-25   -0.167070\n",
       "2001-01-26    0.197678\n",
       "2001-01-27   -0.884679\n",
       "2001-01-28   -1.508802\n",
       "2001-01-29   -0.707371\n",
       "2001-01-30   -0.557347\n",
       "                ...   \n",
       "2001-12-02   -1.514448\n",
       "2001-12-03    0.323025\n",
       "2001-12-04   -0.476434\n",
       "2001-12-05   -0.211204\n",
       "2001-12-06   -0.150508\n",
       "2001-12-07    0.262383\n",
       "2001-12-08    0.998137\n",
       "2001-12-09   -0.989222\n",
       "2001-12-10   -1.959937\n",
       "2001-12-11   -1.108083\n",
       "2001-12-12    0.072839\n",
       "2001-12-13    1.278585\n",
       "2001-12-14    0.323203\n",
       "2001-12-15    0.679147\n",
       "2001-12-16   -0.163669\n",
       "2001-12-17   -0.436933\n",
       "2001-12-18   -1.226454\n",
       "2001-12-19    0.125170\n",
       "2001-12-20   -1.444495\n",
       "2001-12-21    0.090625\n",
       "2001-12-22    0.187878\n",
       "2001-12-23    0.257093\n",
       "2001-12-24    1.957713\n",
       "2001-12-25    0.166798\n",
       "2001-12-26   -1.594235\n",
       "2001-12-27    0.342532\n",
       "2001-12-28    0.380256\n",
       "2001-12-29    0.480563\n",
       "2001-12-30   -0.323030\n",
       "2001-12-31   -0.432497\n",
       "Freq: D, Length: 365, dtype: float64"
      ]
     },
     "execution_count": 18,
     "metadata": {},
     "output_type": "execute_result"
    }
   ],
   "source": [
    "longest_ts['2001']"
   ]
  },
  {
   "cell_type": "code",
   "execution_count": 19,
   "metadata": {},
   "outputs": [
    {
     "data": {
      "text/plain": [
       "2000-01-01   -1.179089\n",
       "2000-01-02    0.476831\n",
       "2000-01-03   -0.432824\n",
       "2000-01-04    1.860395\n",
       "2000-01-05   -0.121090\n",
       "2000-01-06    1.003150\n",
       "2000-01-07   -0.741035\n",
       "2000-01-08    2.266809\n",
       "2000-01-09    0.644474\n",
       "2000-01-10    0.551503\n",
       "2000-01-11   -0.405612\n",
       "2000-01-12   -1.334819\n",
       "2000-01-13   -0.045012\n",
       "2000-01-14   -0.866404\n",
       "2000-01-15    1.794477\n",
       "2000-01-16    0.723418\n",
       "2000-01-17   -0.339517\n",
       "2000-01-18   -0.461211\n",
       "2000-01-19    0.097619\n",
       "2000-01-20   -2.210853\n",
       "2000-01-21   -0.281519\n",
       "2000-01-22   -1.077253\n",
       "2000-01-23   -2.336670\n",
       "2000-01-24   -0.284089\n",
       "2000-01-25    1.543158\n",
       "2000-01-26    0.094773\n",
       "2000-01-27    0.848998\n",
       "2000-01-28    0.902907\n",
       "2000-01-29   -0.294434\n",
       "2000-01-30   -1.783351\n",
       "                ...   \n",
       "2000-12-02   -0.248391\n",
       "2000-12-03    0.034800\n",
       "2000-12-04   -0.552319\n",
       "2000-12-05    0.888940\n",
       "2000-12-06    0.172261\n",
       "2000-12-07   -1.182229\n",
       "2000-12-08   -1.073425\n",
       "2000-12-09    0.569792\n",
       "2000-12-10    1.076595\n",
       "2000-12-11   -0.689574\n",
       "2000-12-12   -0.037915\n",
       "2000-12-13    0.255981\n",
       "2000-12-14   -1.590672\n",
       "2000-12-15   -0.103658\n",
       "2000-12-16    1.074724\n",
       "2000-12-17    1.418781\n",
       "2000-12-18    2.862570\n",
       "2000-12-19   -1.134561\n",
       "2000-12-20    0.488491\n",
       "2000-12-21   -0.533932\n",
       "2000-12-22   -0.634183\n",
       "2000-12-23   -1.155960\n",
       "2000-12-24    0.236608\n",
       "2000-12-25    0.237684\n",
       "2000-12-26    0.959496\n",
       "2000-12-27    0.897535\n",
       "2000-12-28    0.532730\n",
       "2000-12-29   -0.975986\n",
       "2000-12-30   -0.490271\n",
       "2000-12-31    0.225162\n",
       "Freq: D, Length: 366, dtype: float64"
      ]
     },
     "execution_count": 19,
     "metadata": {},
     "output_type": "execute_result"
    }
   ],
   "source": [
    "longest_ts['2000']"
   ]
  },
  {
   "cell_type": "code",
   "execution_count": 20,
   "metadata": {},
   "outputs": [
    {
     "data": {
      "text/plain": [
       "2000-05-01    0.132295\n",
       "2000-05-02    0.428069\n",
       "2000-05-03    1.051904\n",
       "2000-05-04   -1.371668\n",
       "2000-05-05    0.530953\n",
       "2000-05-06    2.087690\n",
       "2000-05-07    0.188493\n",
       "2000-05-08   -0.796946\n",
       "2000-05-09    0.314505\n",
       "2000-05-10   -0.719894\n",
       "2000-05-11    0.139018\n",
       "2000-05-12   -1.933456\n",
       "2000-05-13   -0.785987\n",
       "2000-05-14   -0.014272\n",
       "2000-05-15   -0.948649\n",
       "2000-05-16   -2.195850\n",
       "2000-05-17   -0.600959\n",
       "2000-05-18   -1.339638\n",
       "2000-05-19    0.343267\n",
       "2000-05-20    0.910731\n",
       "2000-05-21    0.464480\n",
       "2000-05-22    0.607530\n",
       "2000-05-23   -0.492345\n",
       "2000-05-24    1.693805\n",
       "2000-05-25    2.532629\n",
       "2000-05-26   -0.199320\n",
       "2000-05-27    0.406589\n",
       "2000-05-28   -0.380755\n",
       "2000-05-29   -0.504074\n",
       "2000-05-30   -1.230486\n",
       "2000-05-31   -1.621795\n",
       "Freq: D, dtype: float64"
      ]
     },
     "execution_count": 20,
     "metadata": {},
     "output_type": "execute_result"
    }
   ],
   "source": [
    "longest_ts['2000-05']"
   ]
  },
  {
   "cell_type": "code",
   "execution_count": 21,
   "metadata": {},
   "outputs": [
    {
     "data": {
      "text/plain": [
       "2011-01-07   -0.647623\n",
       "2011-01-09    1.979996\n",
       "2011-01-10   -0.051569\n",
       "dtype: float64"
      ]
     },
     "execution_count": 21,
     "metadata": {},
     "output_type": "execute_result"
    }
   ],
   "source": [
    "ts[datetime(2011, 1, 7):]"
   ]
  },
  {
   "cell_type": "code",
   "execution_count": 22,
   "metadata": {},
   "outputs": [
    {
     "data": {
      "text/plain": [
       "2011-01-02    0.561466\n",
       "2011-01-03   -0.145611\n",
       "2011-01-05   -1.426006\n",
       "2011-01-07   -0.647623\n",
       "2011-01-09    1.979996\n",
       "2011-01-10   -0.051569\n",
       "dtype: float64"
      ]
     },
     "execution_count": 22,
     "metadata": {},
     "output_type": "execute_result"
    }
   ],
   "source": [
    "ts"
   ]
  },
  {
   "cell_type": "code",
   "execution_count": 23,
   "metadata": {},
   "outputs": [
    {
     "data": {
      "text/plain": [
       "2011-01-05   -1.426006\n",
       "2011-01-07   -0.647623\n",
       "2011-01-09    1.979996\n",
       "2011-01-10   -0.051569\n",
       "dtype: float64"
      ]
     },
     "execution_count": 23,
     "metadata": {},
     "output_type": "execute_result"
    }
   ],
   "source": [
    "ts[datetime(2011, 1, 5):]"
   ]
  },
  {
   "cell_type": "code",
   "execution_count": 24,
   "metadata": {},
   "outputs": [
    {
     "data": {
      "text/plain": [
       "2011-01-05   -1.426006\n",
       "2011-01-07   -0.647623\n",
       "2011-01-09    1.979996\n",
       "dtype: float64"
      ]
     },
     "execution_count": 24,
     "metadata": {},
     "output_type": "execute_result"
    }
   ],
   "source": [
    "ts[datetime(2011, 1, 5) : datetime(2011, 1, 9)]"
   ]
  },
  {
   "cell_type": "code",
   "execution_count": 25,
   "metadata": {},
   "outputs": [
    {
     "data": {
      "text/plain": [
       "2011-01-05   -1.426006\n",
       "2011-01-07   -0.647623\n",
       "dtype: float64"
      ]
     },
     "execution_count": 25,
     "metadata": {},
     "output_type": "execute_result"
    }
   ],
   "source": [
    "ts[datetime(2011, 1, 5) : datetime(2011, 1, 8)]"
   ]
  },
  {
   "cell_type": "code",
   "execution_count": 26,
   "metadata": {},
   "outputs": [],
   "source": [
    "dates = pd.DatetimeIndex(['1/1/2000', '1/2/2000', '1/2/2000', '1/2/2000', '1/3/2000'])"
   ]
  },
  {
   "cell_type": "code",
   "execution_count": 27,
   "metadata": {},
   "outputs": [
    {
     "data": {
      "text/plain": [
       "DatetimeIndex(['2000-01-01', '2000-01-02', '2000-01-02', '2000-01-02',\n",
       "               '2000-01-03'],\n",
       "              dtype='datetime64[ns]', freq=None)"
      ]
     },
     "execution_count": 27,
     "metadata": {},
     "output_type": "execute_result"
    }
   ],
   "source": [
    "dates"
   ]
  },
  {
   "cell_type": "code",
   "execution_count": 28,
   "metadata": {},
   "outputs": [],
   "source": [
    "duplicate_ts = pd.Series(np.arange(5), index = dates) "
   ]
  },
  {
   "cell_type": "code",
   "execution_count": 29,
   "metadata": {},
   "outputs": [
    {
     "data": {
      "text/plain": [
       "2000-01-01    0\n",
       "2000-01-02    1\n",
       "2000-01-02    2\n",
       "2000-01-02    3\n",
       "2000-01-03    4\n",
       "dtype: int32"
      ]
     },
     "execution_count": 29,
     "metadata": {},
     "output_type": "execute_result"
    }
   ],
   "source": [
    "duplicate_ts"
   ]
  },
  {
   "cell_type": "code",
   "execution_count": 30,
   "metadata": {},
   "outputs": [
    {
     "data": {
      "text/plain": [
       "False"
      ]
     },
     "execution_count": 30,
     "metadata": {},
     "output_type": "execute_result"
    }
   ],
   "source": [
    "duplicate_ts.index.is_unique"
   ]
  },
  {
   "cell_type": "code",
   "execution_count": 31,
   "metadata": {},
   "outputs": [
    {
     "data": {
      "text/plain": [
       "2000-01-02    1\n",
       "2000-01-02    2\n",
       "2000-01-02    3\n",
       "dtype: int32"
      ]
     },
     "execution_count": 31,
     "metadata": {},
     "output_type": "execute_result"
    }
   ],
   "source": [
    "duplicate_ts['2000-01-02']"
   ]
  },
  {
   "cell_type": "code",
   "execution_count": 32,
   "metadata": {},
   "outputs": [],
   "source": [
    "grouped = duplicate_ts.groupby(level=0)"
   ]
  },
  {
   "cell_type": "raw",
   "metadata": {},
   "source": []
  },
  {
   "cell_type": "code",
   "execution_count": 33,
   "metadata": {},
   "outputs": [
    {
     "data": {
      "text/plain": [
       "2000-01-01    0\n",
       "2000-01-02    2\n",
       "2000-01-03    4\n",
       "dtype: int32"
      ]
     },
     "execution_count": 33,
     "metadata": {},
     "output_type": "execute_result"
    }
   ],
   "source": [
    "grouped.mean()"
   ]
  },
  {
   "cell_type": "code",
   "execution_count": 34,
   "metadata": {},
   "outputs": [
    {
     "data": {
      "text/plain": [
       "2000-01-01    1\n",
       "2000-01-02    3\n",
       "2000-01-03    1\n",
       "dtype: int64"
      ]
     },
     "execution_count": 34,
     "metadata": {},
     "output_type": "execute_result"
    }
   ],
   "source": [
    "grouped.count()"
   ]
  },
  {
   "cell_type": "code",
   "execution_count": 35,
   "metadata": {},
   "outputs": [
    {
     "data": {
      "text/plain": [
       "2011-01-02    0.561466\n",
       "2011-01-03   -0.145611\n",
       "2011-01-05   -1.426006\n",
       "2011-01-07   -0.647623\n",
       "2011-01-09    1.979996\n",
       "2011-01-10   -0.051569\n",
       "dtype: float64"
      ]
     },
     "execution_count": 35,
     "metadata": {},
     "output_type": "execute_result"
    }
   ],
   "source": [
    "ts"
   ]
  },
  {
   "cell_type": "code",
   "execution_count": 36,
   "metadata": {},
   "outputs": [],
   "source": [
    "resampler = ts.resample('D')"
   ]
  },
  {
   "cell_type": "code",
   "execution_count": 37,
   "metadata": {},
   "outputs": [
    {
     "data": {
      "text/plain": [
       "DatetimeIndexResampler [freq=<Day>, axis=0, closed=left, label=left, convention=start, base=0]"
      ]
     },
     "execution_count": 37,
     "metadata": {},
     "output_type": "execute_result"
    }
   ],
   "source": [
    "resampler"
   ]
  },
  {
   "cell_type": "code",
   "execution_count": 38,
   "metadata": {},
   "outputs": [
    {
     "data": {
      "text/plain": [
       "DatetimeIndex(['2012-04-01', '2012-04-02', '2012-04-03', '2012-04-04',\n",
       "               '2012-04-05', '2012-04-06', '2012-04-07', '2012-04-08',\n",
       "               '2012-04-09', '2012-04-10', '2012-04-11', '2012-04-12',\n",
       "               '2012-04-13', '2012-04-14', '2012-04-15', '2012-04-16',\n",
       "               '2012-04-17', '2012-04-18', '2012-04-19', '2012-04-20'],\n",
       "              dtype='datetime64[ns]', freq='D')"
      ]
     },
     "execution_count": 38,
     "metadata": {},
     "output_type": "execute_result"
    }
   ],
   "source": [
    "pd.date_range(start='2012-4-1', periods=20)"
   ]
  },
  {
   "cell_type": "code",
   "execution_count": 39,
   "metadata": {},
   "outputs": [
    {
     "data": {
      "text/plain": [
       "DatetimeIndex(['2012-06-11', '2012-06-12', '2012-06-13', '2012-06-14',\n",
       "               '2012-06-15', '2012-06-16', '2012-06-17', '2012-06-18',\n",
       "               '2012-06-19', '2012-06-20', '2012-06-21', '2012-06-22',\n",
       "               '2012-06-23', '2012-06-24', '2012-06-25', '2012-06-26',\n",
       "               '2012-06-27', '2012-06-28', '2012-06-29', '2012-06-30'],\n",
       "              dtype='datetime64[ns]', freq='D')"
      ]
     },
     "execution_count": 39,
     "metadata": {},
     "output_type": "execute_result"
    }
   ],
   "source": [
    "pd.date_range(end='2012-6-30', periods=20)"
   ]
  },
  {
   "cell_type": "code",
   "execution_count": 40,
   "metadata": {},
   "outputs": [
    {
     "data": {
      "text/plain": [
       "DatetimeIndex(['2000-01-31', '2000-02-29', '2000-03-31', '2000-04-28',\n",
       "               '2000-05-31', '2000-06-30', '2000-07-31', '2000-08-31',\n",
       "               '2000-09-29', '2000-10-31', '2000-11-30'],\n",
       "              dtype='datetime64[ns]', freq='BM')"
      ]
     },
     "execution_count": 40,
     "metadata": {},
     "output_type": "execute_result"
    }
   ],
   "source": [
    "pd.date_range('2000-01-01', '2000-12-01', freq='BM')"
   ]
  },
  {
   "cell_type": "code",
   "execution_count": 41,
   "metadata": {},
   "outputs": [
    {
     "data": {
      "text/plain": [
       "DatetimeIndex(['2012-06-30 12:55:10', '2012-07-01 12:55:10',\n",
       "               '2012-07-02 12:55:10', '2012-07-03 12:55:10',\n",
       "               '2012-07-04 12:55:10'],\n",
       "              dtype='datetime64[ns]', freq='D')"
      ]
     },
     "execution_count": 41,
     "metadata": {},
     "output_type": "execute_result"
    }
   ],
   "source": [
    "pd.date_range(start='2012-6-30 12:55:10', periods=5)"
   ]
  },
  {
   "cell_type": "code",
   "execution_count": 42,
   "metadata": {},
   "outputs": [
    {
     "data": {
      "text/plain": [
       "DatetimeIndex(['2012-06-30', '2012-07-01', '2012-07-02', '2012-07-03',\n",
       "               '2012-07-04'],\n",
       "              dtype='datetime64[ns]', freq='D')"
      ]
     },
     "execution_count": 42,
     "metadata": {},
     "output_type": "execute_result"
    }
   ],
   "source": [
    "pd.date_range(start='2012-6-30 12:55:10', periods=5, normalize=True)"
   ]
  },
  {
   "cell_type": "code",
   "execution_count": 44,
   "metadata": {},
   "outputs": [],
   "source": [
    "p = pd.Period('2007', freq='A-DEC')"
   ]
  },
  {
   "cell_type": "code",
   "execution_count": 45,
   "metadata": {},
   "outputs": [
    {
     "data": {
      "text/plain": [
       "Period('2007', 'A-DEC')"
      ]
     },
     "execution_count": 45,
     "metadata": {},
     "output_type": "execute_result"
    }
   ],
   "source": [
    "p"
   ]
  },
  {
   "cell_type": "code",
   "execution_count": 46,
   "metadata": {},
   "outputs": [
    {
     "data": {
      "text/plain": [
       "Period('2012', 'A-DEC')"
      ]
     },
     "execution_count": 46,
     "metadata": {},
     "output_type": "execute_result"
    }
   ],
   "source": [
    "p+5"
   ]
  },
  {
   "cell_type": "code",
   "execution_count": 47,
   "metadata": {},
   "outputs": [
    {
     "data": {
      "text/plain": [
       "Period('2007', 'A-DEC')"
      ]
     },
     "execution_count": 47,
     "metadata": {},
     "output_type": "execute_result"
    }
   ],
   "source": [
    "p"
   ]
  },
  {
   "cell_type": "code",
   "execution_count": 48,
   "metadata": {},
   "outputs": [
    {
     "data": {
      "text/plain": [
       "<7 * YearEnds: month=12>"
      ]
     },
     "execution_count": 48,
     "metadata": {},
     "output_type": "execute_result"
    }
   ],
   "source": [
    "pd.Period('2014', freq='A-DEC') - p"
   ]
  },
  {
   "cell_type": "code",
   "execution_count": 49,
   "metadata": {},
   "outputs": [],
   "source": [
    "rng = pd.period_range('2000-01-01', '2000-06-30', freq='M')"
   ]
  },
  {
   "cell_type": "code",
   "execution_count": 50,
   "metadata": {},
   "outputs": [
    {
     "data": {
      "text/plain": [
       "PeriodIndex(['2000-01', '2000-02', '2000-03', '2000-04', '2000-05', '2000-06'], dtype='period[M]', freq='M')"
      ]
     },
     "execution_count": 50,
     "metadata": {},
     "output_type": "execute_result"
    }
   ],
   "source": [
    "rng"
   ]
  },
  {
   "cell_type": "code",
   "execution_count": 51,
   "metadata": {},
   "outputs": [],
   "source": [
    "rng = pd.period_range('2000-01-01', '2000-06-30', freq='D')"
   ]
  },
  {
   "cell_type": "code",
   "execution_count": 52,
   "metadata": {},
   "outputs": [
    {
     "data": {
      "text/plain": [
       "PeriodIndex(['2000-01-01', '2000-01-02', '2000-01-03', '2000-01-04',\n",
       "             '2000-01-05', '2000-01-06', '2000-01-07', '2000-01-08',\n",
       "             '2000-01-09', '2000-01-10',\n",
       "             ...\n",
       "             '2000-06-21', '2000-06-22', '2000-06-23', '2000-06-24',\n",
       "             '2000-06-25', '2000-06-26', '2000-06-27', '2000-06-28',\n",
       "             '2000-06-29', '2000-06-30'],\n",
       "            dtype='period[D]', length=182, freq='D')"
      ]
     },
     "execution_count": 52,
     "metadata": {},
     "output_type": "execute_result"
    }
   ],
   "source": [
    "rng"
   ]
  },
  {
   "cell_type": "code",
   "execution_count": 53,
   "metadata": {},
   "outputs": [],
   "source": [
    "rng = pd.period_range('2000-01-01', '2000-06-30', freq='M')"
   ]
  },
  {
   "cell_type": "code",
   "execution_count": 54,
   "metadata": {
    "scrolled": true
   },
   "outputs": [
    {
     "data": {
      "text/plain": [
       "2000-01    0.291924\n",
       "2000-02   -0.964677\n",
       "2000-03   -0.318701\n",
       "2000-04   -1.641465\n",
       "2000-05    0.493290\n",
       "2000-06   -1.283618\n",
       "Freq: M, dtype: float64"
      ]
     },
     "execution_count": 54,
     "metadata": {},
     "output_type": "execute_result"
    }
   ],
   "source": [
    "pd.Series(np.random.randn(6), index=rng)"
   ]
  },
  {
   "cell_type": "code",
   "execution_count": 57,
   "metadata": {},
   "outputs": [],
   "source": [
    "values = ['2000-01-01','2000-02-01', '2000-03-01']"
   ]
  },
  {
   "cell_type": "code",
   "execution_count": 61,
   "metadata": {},
   "outputs": [
    {
     "data": {
      "text/plain": [
       "PeriodIndex(['2000-01', '2000-02', '2000-03'], dtype='period[M]', freq='M')"
      ]
     },
     "execution_count": 61,
     "metadata": {},
     "output_type": "execute_result"
    }
   ],
   "source": [
    "pd.PeriodIndex(values, freq='M')"
   ]
  },
  {
   "cell_type": "code",
   "execution_count": 62,
   "metadata": {},
   "outputs": [],
   "source": [
    "p = pd.Period('2007', freq='A-DEC')"
   ]
  },
  {
   "cell_type": "code",
   "execution_count": 63,
   "metadata": {},
   "outputs": [
    {
     "data": {
      "text/plain": [
       "Period('2007', 'A-DEC')"
      ]
     },
     "execution_count": 63,
     "metadata": {},
     "output_type": "execute_result"
    }
   ],
   "source": [
    "p"
   ]
  },
  {
   "cell_type": "code",
   "execution_count": 64,
   "metadata": {},
   "outputs": [
    {
     "data": {
      "text/plain": [
       "Period('2007-01', 'M')"
      ]
     },
     "execution_count": 64,
     "metadata": {},
     "output_type": "execute_result"
    }
   ],
   "source": [
    "p.asfreq('M', how='start')"
   ]
  },
  {
   "cell_type": "code",
   "execution_count": 65,
   "metadata": {},
   "outputs": [
    {
     "data": {
      "text/plain": [
       "Period('2007-12', 'M')"
      ]
     },
     "execution_count": 65,
     "metadata": {},
     "output_type": "execute_result"
    }
   ],
   "source": [
    "p.asfreq('M', how='end')"
   ]
  },
  {
   "cell_type": "code",
   "execution_count": 66,
   "metadata": {},
   "outputs": [
    {
     "data": {
      "text/plain": [
       "Period('2007-12-31', 'D')"
      ]
     },
     "execution_count": 66,
     "metadata": {},
     "output_type": "execute_result"
    }
   ],
   "source": [
    "p.asfreq('D', how='end')"
   ]
  },
  {
   "cell_type": "code",
   "execution_count": 69,
   "metadata": {},
   "outputs": [
    {
     "data": {
      "text/plain": [
       "Period('2007-12-31 23:59:59', 'S')"
      ]
     },
     "execution_count": 69,
     "metadata": {},
     "output_type": "execute_result"
    }
   ],
   "source": [
    "p.asfreq('s', how='end')"
   ]
  },
  {
   "cell_type": "code",
   "execution_count": 70,
   "metadata": {},
   "outputs": [],
   "source": [
    "rng = pd.period_range('2006', '2009', freq='A-DEC')"
   ]
  },
  {
   "cell_type": "code",
   "execution_count": 71,
   "metadata": {},
   "outputs": [],
   "source": [
    "ts = pd.Series(np.random.randn(len(rng)), index = rng)"
   ]
  },
  {
   "cell_type": "code",
   "execution_count": 72,
   "metadata": {},
   "outputs": [
    {
     "data": {
      "text/plain": [
       "2006   -0.757406\n",
       "2007    0.874474\n",
       "2008    0.808065\n",
       "2009   -0.416813\n",
       "Freq: A-DEC, dtype: float64"
      ]
     },
     "execution_count": 72,
     "metadata": {},
     "output_type": "execute_result"
    }
   ],
   "source": [
    "ts"
   ]
  },
  {
   "cell_type": "code",
   "execution_count": 73,
   "metadata": {},
   "outputs": [
    {
     "data": {
      "text/plain": [
       "2006-12   -0.757406\n",
       "2007-12    0.874474\n",
       "2008-12    0.808065\n",
       "2009-12   -0.416813\n",
       "Freq: M, dtype: float64"
      ]
     },
     "execution_count": 73,
     "metadata": {},
     "output_type": "execute_result"
    }
   ],
   "source": [
    "ts.asfreq('M')"
   ]
  },
  {
   "cell_type": "code",
   "execution_count": 74,
   "metadata": {},
   "outputs": [
    {
     "data": {
      "text/plain": [
       "2006-01   -0.757406\n",
       "2007-01    0.874474\n",
       "2008-01    0.808065\n",
       "2009-01   -0.416813\n",
       "Freq: M, dtype: float64"
      ]
     },
     "execution_count": 74,
     "metadata": {},
     "output_type": "execute_result"
    }
   ],
   "source": [
    "ts.asfreq('M', how='start')"
   ]
  },
  {
   "cell_type": "code",
   "execution_count": 75,
   "metadata": {},
   "outputs": [],
   "source": [
    "rng_trimestre = pd.period_range('2000-01-01', '2002-01-01', freq='Q-JAN')"
   ]
  },
  {
   "cell_type": "code",
   "execution_count": 76,
   "metadata": {},
   "outputs": [
    {
     "data": {
      "text/plain": [
       "PeriodIndex(['2000Q4', '2001Q1', '2001Q2', '2001Q3', '2001Q4', '2002Q1',\n",
       "             '2002Q2', '2002Q3', '2002Q4'],\n",
       "            dtype='period[Q-JAN]', freq='Q-JAN')"
      ]
     },
     "execution_count": 76,
     "metadata": {},
     "output_type": "execute_result"
    }
   ],
   "source": [
    "rng_trimestre"
   ]
  },
  {
   "cell_type": "code",
   "execution_count": 77,
   "metadata": {},
   "outputs": [],
   "source": [
    "rng = pd.date_range('2000-01-01', periods=100, freq='D')"
   ]
  },
  {
   "cell_type": "code",
   "execution_count": 79,
   "metadata": {},
   "outputs": [
    {
     "data": {
      "text/plain": [
       "DatetimeIndex(['2000-01-01', '2000-01-02', '2000-01-03', '2000-01-04',\n",
       "               '2000-01-05', '2000-01-06', '2000-01-07', '2000-01-08',\n",
       "               '2000-01-09', '2000-01-10', '2000-01-11', '2000-01-12',\n",
       "               '2000-01-13', '2000-01-14', '2000-01-15', '2000-01-16',\n",
       "               '2000-01-17', '2000-01-18', '2000-01-19', '2000-01-20',\n",
       "               '2000-01-21', '2000-01-22', '2000-01-23', '2000-01-24',\n",
       "               '2000-01-25', '2000-01-26', '2000-01-27', '2000-01-28',\n",
       "               '2000-01-29', '2000-01-30', '2000-01-31', '2000-02-01',\n",
       "               '2000-02-02', '2000-02-03', '2000-02-04', '2000-02-05',\n",
       "               '2000-02-06', '2000-02-07', '2000-02-08', '2000-02-09',\n",
       "               '2000-02-10', '2000-02-11', '2000-02-12', '2000-02-13',\n",
       "               '2000-02-14', '2000-02-15', '2000-02-16', '2000-02-17',\n",
       "               '2000-02-18', '2000-02-19', '2000-02-20', '2000-02-21',\n",
       "               '2000-02-22', '2000-02-23', '2000-02-24', '2000-02-25',\n",
       "               '2000-02-26', '2000-02-27', '2000-02-28', '2000-02-29',\n",
       "               '2000-03-01', '2000-03-02', '2000-03-03', '2000-03-04',\n",
       "               '2000-03-05', '2000-03-06', '2000-03-07', '2000-03-08',\n",
       "               '2000-03-09', '2000-03-10', '2000-03-11', '2000-03-12',\n",
       "               '2000-03-13', '2000-03-14', '2000-03-15', '2000-03-16',\n",
       "               '2000-03-17', '2000-03-18', '2000-03-19', '2000-03-20',\n",
       "               '2000-03-21', '2000-03-22', '2000-03-23', '2000-03-24',\n",
       "               '2000-03-25', '2000-03-26', '2000-03-27', '2000-03-28',\n",
       "               '2000-03-29', '2000-03-30', '2000-03-31', '2000-04-01',\n",
       "               '2000-04-02', '2000-04-03', '2000-04-04', '2000-04-05',\n",
       "               '2000-04-06', '2000-04-07', '2000-04-08', '2000-04-09'],\n",
       "              dtype='datetime64[ns]', freq='D')"
      ]
     },
     "execution_count": 79,
     "metadata": {},
     "output_type": "execute_result"
    }
   ],
   "source": [
    "rng"
   ]
  },
  {
   "cell_type": "code",
   "execution_count": 80,
   "metadata": {},
   "outputs": [],
   "source": [
    "ts = pd.Series(np.random.randn(len(rng)), index = rng)"
   ]
  },
  {
   "cell_type": "code",
   "execution_count": 81,
   "metadata": {},
   "outputs": [
    {
     "data": {
      "text/plain": [
       "2000-01-01   -1.315267\n",
       "2000-01-02   -0.531625\n",
       "2000-01-03   -0.047521\n",
       "2000-01-04    1.581619\n",
       "2000-01-05    0.386501\n",
       "2000-01-06    0.086708\n",
       "2000-01-07   -0.350029\n",
       "2000-01-08    1.106668\n",
       "2000-01-09    1.998885\n",
       "2000-01-10    0.846014\n",
       "2000-01-11   -0.853735\n",
       "2000-01-12   -0.295327\n",
       "2000-01-13    1.525301\n",
       "2000-01-14   -0.867602\n",
       "2000-01-15    0.504338\n",
       "2000-01-16   -0.875299\n",
       "2000-01-17   -1.360629\n",
       "2000-01-18    1.234134\n",
       "2000-01-19    3.288200\n",
       "2000-01-20    0.224359\n",
       "2000-01-21   -0.657856\n",
       "2000-01-22   -0.445966\n",
       "2000-01-23    0.064199\n",
       "2000-01-24    0.163085\n",
       "2000-01-25    1.402975\n",
       "2000-01-26   -0.066435\n",
       "2000-01-27    1.764838\n",
       "2000-01-28    1.361166\n",
       "2000-01-29    0.060042\n",
       "2000-01-30   -0.551014\n",
       "                ...   \n",
       "2000-03-11   -0.833712\n",
       "2000-03-12    0.628294\n",
       "2000-03-13   -0.544944\n",
       "2000-03-14    0.482800\n",
       "2000-03-15   -0.034439\n",
       "2000-03-16    2.310949\n",
       "2000-03-17   -0.116094\n",
       "2000-03-18   -0.624188\n",
       "2000-03-19    0.252895\n",
       "2000-03-20    1.389477\n",
       "2000-03-21    0.158524\n",
       "2000-03-22   -0.186280\n",
       "2000-03-23    0.166344\n",
       "2000-03-24    0.970818\n",
       "2000-03-25    1.626241\n",
       "2000-03-26   -0.484958\n",
       "2000-03-27    1.053033\n",
       "2000-03-28    1.001950\n",
       "2000-03-29   -0.869175\n",
       "2000-03-30    0.535632\n",
       "2000-03-31    0.588162\n",
       "2000-04-01    0.163967\n",
       "2000-04-02   -0.514260\n",
       "2000-04-03    0.475464\n",
       "2000-04-04   -0.701028\n",
       "2000-04-05   -0.685278\n",
       "2000-04-06    1.118696\n",
       "2000-04-07    2.241943\n",
       "2000-04-08   -0.576515\n",
       "2000-04-09   -0.468660\n",
       "Freq: D, Length: 100, dtype: float64"
      ]
     },
     "execution_count": 81,
     "metadata": {},
     "output_type": "execute_result"
    }
   ],
   "source": [
    "ts"
   ]
  },
  {
   "cell_type": "code",
   "execution_count": 85,
   "metadata": {},
   "outputs": [
    {
     "data": {
      "text/plain": [
       "2000-01-31    0.338398\n",
       "2000-02-29    0.442174\n",
       "2000-03-31    0.122094\n",
       "2000-04-30    0.117148\n",
       "Freq: M, dtype: float64"
      ]
     },
     "execution_count": 85,
     "metadata": {},
     "output_type": "execute_result"
    }
   ],
   "source": [
    "ts.resample('M').mean()"
   ]
  },
  {
   "cell_type": "code",
   "execution_count": null,
   "metadata": {},
   "outputs": [],
   "source": []
  }
 ],
 "metadata": {
  "kernelspec": {
   "display_name": "Python 3",
   "language": "python",
   "name": "python3"
  },
  "language_info": {
   "codemirror_mode": {
    "name": "ipython",
    "version": 3
   },
   "file_extension": ".py",
   "mimetype": "text/x-python",
   "name": "python",
   "nbconvert_exporter": "python",
   "pygments_lexer": "ipython3",
   "version": "3.7.3"
  }
 },
 "nbformat": 4,
 "nbformat_minor": 2
}
